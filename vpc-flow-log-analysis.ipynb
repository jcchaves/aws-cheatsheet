{
 "cells": [
  {
   "cell_type": "markdown",
   "id": "f0f835d4-30ce-4ccf-9079-bec2e19f9897",
   "metadata": {},
   "source": [
    "# VPC Flow Analysis"
   ]
  },
  {
   "cell_type": "markdown",
   "id": "c9489a4a-7643-4218-8508-a6833555790b",
   "metadata": {},
   "source": [
    "## Dependencies"
   ]
  },
  {
   "cell_type": "code",
   "execution_count": 161,
   "id": "da4b8980-5cc9-4e2f-9f11-9f1edf3171ca",
   "metadata": {},
   "outputs": [],
   "source": [
    "import csv\n",
    "import json\n",
    "from os import path\n",
    "import pandas as pd\n",
    "import requests"
   ]
  },
  {
   "cell_type": "markdown",
   "id": "0066f80e-3817-4bc8-be56-83d30f8269ea",
   "metadata": {},
   "source": [
    "# AWS IP Address Ranges\n",
    "\n",
    "AWS IP Address ranges are publicly available at this address: https://ip-ranges.amazonaws.com/ip-ranges.json\n",
    "\n",
    "These ranges may change in time. Notifications are available to keep them up to date. See more here: https://docs.aws.amazon.com/general/latest/gr/aws-ip-ranges.html#subscribe-notifications\n",
    "\n",
    "AWS IP Ranges are only loaded the first time this notebook is executed."
   ]
  },
  {
   "cell_type": "code",
   "execution_count": 154,
   "id": "004ef169-80d3-4baf-91a6-242d6e1e4ea4",
   "metadata": {},
   "outputs": [],
   "source": [
    "def loadAwsIpRanges():\n",
    "    json_path = \"aws_ip_ranges.json\"\n",
    "    awsIpRangesExists = path.exists(json_path)\n",
    "    if not awsIpRangesExists:\n",
    "        awsIpRanges = requests.get(\"https://ip-ranges.amazonaws.com/ip-ranges.json\")\n",
    "    else:\n",
    "        with open(json_path, \"r\") as fp:\n",
    "            awsIpRanges = json.load(fp)\n",
    "    return awsIpRanges"
   ]
  },
  {
   "cell_type": "code",
   "execution_count": 288,
   "id": "f2d9507a-d881-4037-882a-14637c2c444e",
   "metadata": {},
   "outputs": [],
   "source": [
    "def extractCidrParts(df):\n",
    "    cidrParts = df[\"ip_prefix\"].str.split(\"/\").str\n",
    "    networkAddress = cidrParts.get(0)\n",
    "    subnetMaskLength = cidrParts.get(1).astype(int)\n",
    "    df[\"networkAddress\"] = networkAddress\n",
    "    df[\"subnetMaskLength\"] = subnetMaskLength\n",
    "    return df"
   ]
  },
  {
   "cell_type": "code",
   "execution_count": 366,
   "id": "ff39f55d-d714-45f2-9a58-4e0d0f223efc",
   "metadata": {},
   "outputs": [],
   "source": [
    "def loadVpcFlowLogs():\n",
    "    records = []\n",
    "    with open(\"vpc_flow_logs.csv\", \"r\") as fp:\n",
    "        csvReader = csv.reader(fp)\n",
    "        next(csvReader)\n",
    "        for row in csvReader:\n",
    "            records.append(row)\n",
    "    return records"
   ]
  },
  {
   "cell_type": "code",
   "execution_count": 316,
   "id": "b1724dba-61e0-4521-9039-d78bd8a53b8f",
   "metadata": {},
   "outputs": [],
   "source": [
    "def map2NetworkAddress(subnetMaskLength, ipAddress):\n",
    "    ipAddressOctects = [int(octect) for octect in ipAddress.split(\".\")]\n",
    "    maskOctects = subnetMaskOctects(subnetMaskLength)\n",
    "    networkAddressOctects = []\n",
    "    for i in range(4):\n",
    "        networkAddressOctects.append(str(ipAddressOctects[i] & maskOctects[i]))\n",
    "    return \".\".join(networkAddressOctects)\n",
    "    "
   ]
  },
  {
   "cell_type": "code",
   "execution_count": 317,
   "id": "902132cf-e340-4c4b-ab78-cfc6e50d3379",
   "metadata": {},
   "outputs": [],
   "source": [
    "def subnetMaskOctects(subnetMaskLength):\n",
    "    octects = []\n",
    "    tmp = subnetMaskLength\n",
    "    while tmp > 0:\n",
    "        if tmp >= 8:\n",
    "            octects.append((255 << 0) & 255)\n",
    "        else:\n",
    "            octects.append((255 << 8 - tmp) & 255)\n",
    "        tmp -= 8\n",
    "    while len(octects) < 4:\n",
    "        octects.append(0)\n",
    "    return octects"
   ]
  },
  {
   "cell_type": "code",
   "execution_count": 368,
   "id": "794222c8-9a32-456e-b80e-f1fd321014a8",
   "metadata": {},
   "outputs": [],
   "source": [
    "vpcFlowLogs = loadVpcFlowLogs()"
   ]
  },
  {
   "cell_type": "code",
   "execution_count": 319,
   "id": "6bff7f24-81aa-4a4d-be6f-75225665e538",
   "metadata": {},
   "outputs": [],
   "source": [
    "awsIpRangesDf = pd.DataFrame.from_dict(awsIpRanges[\"prefixes\"])"
   ]
  },
  {
   "cell_type": "code",
   "execution_count": 363,
   "id": "a9a49add-4db4-4a24-9132-c5384b29a623",
   "metadata": {},
   "outputs": [
    {
     "data": {
      "text/html": [
       "<div>\n",
       "<style scoped>\n",
       "    .dataframe tbody tr th:only-of-type {\n",
       "        vertical-align: middle;\n",
       "    }\n",
       "\n",
       "    .dataframe tbody tr th {\n",
       "        vertical-align: top;\n",
       "    }\n",
       "\n",
       "    .dataframe thead th {\n",
       "        text-align: right;\n",
       "    }\n",
       "</style>\n",
       "<table border=\"1\" class=\"dataframe\">\n",
       "  <thead>\n",
       "    <tr style=\"text-align: right;\">\n",
       "      <th></th>\n",
       "      <th>ip_prefix</th>\n",
       "      <th>region</th>\n",
       "      <th>service</th>\n",
       "      <th>network_border_group</th>\n",
       "      <th>networkAddress</th>\n",
       "      <th>subnetMaskLength</th>\n",
       "    </tr>\n",
       "  </thead>\n",
       "  <tbody>\n",
       "    <tr>\n",
       "      <th>0</th>\n",
       "      <td>3.2.34.0/26</td>\n",
       "      <td>af-south-1</td>\n",
       "      <td>AMAZON</td>\n",
       "      <td>af-south-1</td>\n",
       "      <td>3.2.34.0</td>\n",
       "      <td>26</td>\n",
       "    </tr>\n",
       "    <tr>\n",
       "      <th>1</th>\n",
       "      <td>3.5.140.0/22</td>\n",
       "      <td>ap-northeast-2</td>\n",
       "      <td>AMAZON</td>\n",
       "      <td>ap-northeast-2</td>\n",
       "      <td>3.5.140.0</td>\n",
       "      <td>22</td>\n",
       "    </tr>\n",
       "    <tr>\n",
       "      <th>2</th>\n",
       "      <td>13.34.37.64/27</td>\n",
       "      <td>ap-southeast-4</td>\n",
       "      <td>AMAZON</td>\n",
       "      <td>ap-southeast-4</td>\n",
       "      <td>13.34.37.64</td>\n",
       "      <td>27</td>\n",
       "    </tr>\n",
       "    <tr>\n",
       "      <th>3</th>\n",
       "      <td>13.34.65.64/27</td>\n",
       "      <td>il-central-1</td>\n",
       "      <td>AMAZON</td>\n",
       "      <td>il-central-1</td>\n",
       "      <td>13.34.65.64</td>\n",
       "      <td>27</td>\n",
       "    </tr>\n",
       "    <tr>\n",
       "      <th>4</th>\n",
       "      <td>13.34.66.0/27</td>\n",
       "      <td>us-east-1</td>\n",
       "      <td>AMAZON</td>\n",
       "      <td>us-east-1</td>\n",
       "      <td>13.34.66.0</td>\n",
       "      <td>27</td>\n",
       "    </tr>\n",
       "  </tbody>\n",
       "</table>\n",
       "</div>"
      ],
      "text/plain": [
       "        ip_prefix          region service network_border_group networkAddress  \\\n",
       "0     3.2.34.0/26      af-south-1  AMAZON           af-south-1       3.2.34.0   \n",
       "1    3.5.140.0/22  ap-northeast-2  AMAZON       ap-northeast-2      3.5.140.0   \n",
       "2  13.34.37.64/27  ap-southeast-4  AMAZON       ap-southeast-4    13.34.37.64   \n",
       "3  13.34.65.64/27    il-central-1  AMAZON         il-central-1    13.34.65.64   \n",
       "4   13.34.66.0/27       us-east-1  AMAZON            us-east-1     13.34.66.0   \n",
       "\n",
       "   subnetMaskLength  \n",
       "0                26  \n",
       "1                22  \n",
       "2                27  \n",
       "3                27  \n",
       "4                27  "
      ]
     },
     "execution_count": 363,
     "metadata": {},
     "output_type": "execute_result"
    }
   ],
   "source": [
    "awsIpRangesDf.pipe(extractCidrParts).head()"
   ]
  },
  {
   "cell_type": "code",
   "execution_count": 364,
   "id": "8602acc6-6dd8-4693-90e3-f3d3dea14db2",
   "metadata": {},
   "outputs": [],
   "source": [
    "def classifyIpAddress(ipAddress, awsIpRangesDf):\n",
    "    matchedServicesDf = awsIpRangesDf[ awsIpRangesDf[\"networkAddress\"] == awsIpRangesDf[\"subnetMaskLength\"].apply(map2NetworkAddress, args=[ipAddress,])]\n",
    "    return \",\".join(matchedServicesDf[\"region\"] + \"_\" + matchedServicesDf[\"service\"] + \"_\" + matchedServicesDf[\"ip_prefix\"])"
   ]
  },
  {
   "cell_type": "code",
   "execution_count": 369,
   "id": "a71b7e39-5385-484d-987c-7448f47ee6e7",
   "metadata": {},
   "outputs": [
    {
     "name": "stdout",
     "output_type": "stream",
     "text": [
      "10.0.0.6,\n",
      "3.2.34.5,af-south-1_AMAZON_3.2.34.0/26,af-south-1_EC2_3.2.34.0/26\n",
      "172.32.0.10,\n",
      "10.1.0.67,\n",
      "172.31.0.3,\n",
      "172.31.0.15,\n",
      "13.34.37.75,ap-southeast-4_AMAZON_13.34.37.64/27\n",
      "172.31.0.3,\n"
     ]
    }
   ],
   "source": [
    "classifiedSourceIps = []\n",
    "classifiedDestinationIps = []\n",
    "for record in vpcFlowLogs:\n",
    "    sourceIp = record[0]\n",
    "    sourceIpClassification = classifyIpAddress(sourceIp, awsIpRangesDf)\n",
    "    classifiedSourceIps.append((sourceIp, sourceIpClassification))\n",
    "    destinationIp = record[1]\n",
    "    destinationIpClassification = classifyIpAddress(destinationIp, awsIpRangesDf)\n",
    "    classifiedDestinationIps.append((destinationIp, destinationIpClassification))\n",
    "\n",
    "for sourceIp, classification in classifiedSourceIps:\n",
    "    print(f\"{sourceIp},{classification}\")\n",
    "\n",
    "for destinationIp, classification in classifiedDestinationIps:\n",
    "    print(f\"{destinationIp},{classification}\")"
   ]
  }
 ],
 "metadata": {
  "kernelspec": {
   "display_name": "Python 3 (ipykernel)",
   "language": "python",
   "name": "python3"
  },
  "language_info": {
   "codemirror_mode": {
    "name": "ipython",
    "version": 3
   },
   "file_extension": ".py",
   "mimetype": "text/x-python",
   "name": "python",
   "nbconvert_exporter": "python",
   "pygments_lexer": "ipython3",
   "version": "3.10.8"
  }
 },
 "nbformat": 4,
 "nbformat_minor": 5
}
